{
 "cells": [
  {
   "cell_type": "code",
   "metadata": {
    "ExecuteTime": {
     "end_time": "2024-06-09T12:13:49.638358Z",
     "start_time": "2024-06-09T12:13:49.168480Z"
    }
   },
   "source": [
    "import numpy as np\n",
    "import pandas as pd\n",
    "import geopandas as gpd\n",
    "import matplotlib.pyplot as plt\n",
    "import contextily as ctx\n",
    "import folium"
   ],
   "outputs": [
    {
     "name": "stderr",
     "output_type": "stream",
     "text": [
      "/Users/benj/code/cdk1/venv/lib/python3.9/site-packages/urllib3/__init__.py:35: NotOpenSSLWarning: urllib3 v2 only supports OpenSSL 1.1.1+, currently the 'ssl' module is compiled with 'LibreSSL 2.8.3'. See: https://github.com/urllib3/urllib3/issues/3020\n",
      "  warnings.warn(\n"
     ]
    }
   ],
   "execution_count": 1
  },
  {
   "metadata": {
    "ExecuteTime": {
     "end_time": "2024-06-09T12:16:50.030164Z",
     "start_time": "2024-06-09T12:16:48.953195Z"
    }
   },
   "cell_type": "code",
   "source": [
    "# read the source dataset\n",
    "data = pd.read_csv('../data/source/df_ch.csv', delimiter=';')"
   ],
   "outputs": [],
   "execution_count": 11
  },
  {
   "metadata": {},
   "cell_type": "markdown",
   "source": "## CSV with yearly summed up precipation"
  },
  {
   "metadata": {
    "ExecuteTime": {
     "end_time": "2024-06-09T12:17:01.608084Z",
     "start_time": "2024-06-09T12:16:51.331253Z"
    }
   },
   "cell_type": "code",
   "source": [
    "# create a dataframe with the summed up yearly precipation\n",
    "from datetime import datetime\n",
    "\n",
    "yearly_df = data.copy()\n",
    "yearly_df['DAY'] = yearly_df['DAY'].map(lambda x: datetime.strptime(str(x), '%Y%m%d'))\n",
    "yearly_df['YEAR'] = yearly_df['DAY'].dt.year\n",
    "\n",
    "yearly_df = yearly_df[\n",
    "    (yearly_df['YEAR'] >= 1979) &\n",
    "    (yearly_df['YEAR'] <= 2020)\n",
    "    ]\n",
    "\n",
    "out = yearly_df[['YEAR', 'LATITUDE', 'LONGITUDE', 'PRECIPITATION']].groupby(['YEAR', 'LATITUDE', 'LONGITUDE'],\n",
    "                                                                            as_index=False).sum()\n",
    "out.to_csv('../data/generated/precipation_yearly_sum.csv')\n"
   ],
   "outputs": [],
   "execution_count": 12
  },
  {
   "metadata": {},
   "cell_type": "markdown",
   "source": "## CSV with monthly summed up precipation"
  },
  {
   "metadata": {
    "ExecuteTime": {
     "end_time": "2024-06-09T12:17:21.367688Z",
     "start_time": "2024-06-09T12:17:04.804349Z"
    }
   },
   "cell_type": "code",
   "source": [
    "# create a dataframe with the summed up monthly precipation\n",
    "from datetime import datetime\n",
    "\n",
    "df = data.copy()\n",
    "df['DAY'] = df['DAY'].map(lambda x: datetime.strptime(str(x), '%Y%m%d'))\n",
    "df['MONTH'] = df['DAY'].dt.strftime('%Y%m')\n",
    "df['YEAR'] = df['DAY'].dt.year\n",
    "\n",
    "df = df[\n",
    "    (df['YEAR'] >= 1979) &\n",
    "    (df['YEAR'] <= 2020)\n",
    "    ]\n",
    "\n",
    "out = df[['MONTH', 'LATITUDE', 'LONGITUDE', 'PRECIPITATION']].groupby(['MONTH', 'LATITUDE', 'LONGITUDE'],\n",
    "                                                                      as_index=False).sum()\n",
    "out.to_csv('../data/generated/precipation_monthly_sum.csv')"
   ],
   "outputs": [],
   "execution_count": 13
  },
  {
   "metadata": {},
   "cell_type": "markdown",
   "source": "# Monthly Precipation in relation to global warming"
  },
  {
   "metadata": {
    "ExecuteTime": {
     "end_time": "2024-06-09T12:19:40.166084Z",
     "start_time": "2024-06-09T12:19:22.709155Z"
    }
   },
   "cell_type": "code",
   "source": [
    "from datetime import datetime\n",
    "\n",
    "# load the dataframe with the global mean temp\n",
    "global_mean_temp_df = pd.read_csv('../data/source/global_mean_temp.csv', delimiter=',')\n",
    "\n",
    "df = data.copy()\n",
    "df['DAY'] = df['DAY'].map(lambda x: datetime.strptime(str(x), '%Y%m%d'))\n",
    "df['MONTH'] = df['DAY'].dt.strftime('%Y%m')\n",
    "df['YEAR'] = df['DAY'].dt.year\n",
    "\n",
    "df = df[['MONTH', 'YEAR', 'LATITUDE', 'LONGITUDE', 'PRECIPITATION']]\n",
    "\n",
    "\n",
    "out = df.groupby(['MONTH', 'YEAR', 'LATITUDE', 'LONGITUDE'], as_index=False).sum()\n",
    "\n",
    "result = pd.merge(out, global_mean_temp_df, on='YEAR', how='outer')\n",
    "\n",
    "result = result[\n",
    "    (result['YEAR'] >= 1979) &\n",
    "    (result['YEAR'] <= 2020)\n",
    "    ]\n",
    "\n",
    "result.to_csv('../data/generated/precipation_monthly_sum_with_global_mean_temp.csv')"
   ],
   "outputs": [],
   "execution_count": 16
  },
  {
   "metadata": {},
   "cell_type": "markdown",
   "source": "# Regularity of precipation by month "
  },
  {
   "metadata": {
    "ExecuteTime": {
     "end_time": "2024-06-09T12:15:33.649283Z",
     "start_time": "2024-06-09T12:15:17.469909Z"
    }
   },
   "cell_type": "code",
   "source": [
    "df = data.copy()\n",
    "df['DAY'] = df['DAY'].map(lambda x: datetime.strptime(str(x), '%Y%m%d'))\n",
    "df['MONTH'] = df['DAY'].dt.strftime('%m')\n",
    "df['YEAR'] = df['DAY'].dt.year\n",
    "\n",
    "out = df[['MONTH', 'YEAR', 'LATITUDE', 'LONGITUDE', 'PRECIPITATION']].groupby(\n",
    "    ['YEAR', 'MONTH', 'LATITUDE', 'LONGITUDE'], as_index=False).sum()\n",
    "out = out[\n",
    "    (out['YEAR'] >= 1979) &\n",
    "    (out['YEAR'] <= 2020)\n",
    "    ]\n",
    "out.to_csv('../data/generated/precipation_monthly_regularity.csv')"
   ],
   "outputs": [],
   "execution_count": 6
  },
  {
   "metadata": {},
   "cell_type": "markdown",
   "source": "# Floods grouped by month for switzerland"
  },
  {
   "metadata": {
    "ExecuteTime": {
     "end_time": "2024-06-09T12:16:20.999782Z",
     "start_time": "2024-06-09T12:16:10.576682Z"
    }
   },
   "cell_type": "code",
   "source": [
    "floods = pd.read_csv('../data/source/HANZE_events.csv', delimiter=',')\n",
    "\n",
    "filtered_floods = floods[\n",
    "    (floods['Year'] >= 1979) &\n",
    "    (floods['Year'] <= 2020) &\n",
    "    (floods['Cause'].to_string().__contains__('rainfall'))]\n",
    "\n",
    "filtered_floods = filtered_floods.groupby(['Year']).size().reset_index(name='count')\n",
    "filtered_floods[['Year', 'count']].to_csv('../data/generated/flooding_events_ch_filtered.csv')\n",
    "\n",
    "data = pd.read_csv('../data/source/df_ch.csv', delimiter=';')\n",
    "yearly_df = data.copy()\n",
    "yearly_df['YEAR'] = yearly_df['DAY'].map(lambda x: datetime.strptime(str(x), '%Y%m%d').year)\n",
    "\n",
    "out = yearly_df[['YEAR', 'PRECIPITATION']].groupby(['YEAR'], as_index=False).sum()\n",
    "\n",
    "result = pd.merge(out, filtered_floods, left_on='YEAR', right_on='Year', how='outer')\n",
    "result = result[['YEAR', 'PRECIPITATION', 'count']].fillna(0)\n",
    "result.to_csv('../data/generated/flooding_events_ch_precipation_yearly.csv')\n"
   ],
   "outputs": [],
   "execution_count": 10
  },
  {
   "metadata": {},
   "cell_type": "code",
   "outputs": [],
   "execution_count": null,
   "source": ""
  }
 ],
 "metadata": {
  "kernelspec": {
   "display_name": "base",
   "language": "python",
   "name": "python3"
  },
  "language_info": {
   "codemirror_mode": {
    "name": "ipython",
    "version": 3
   },
   "file_extension": ".py",
   "mimetype": "text/x-python",
   "name": "python",
   "nbconvert_exporter": "python",
   "pygments_lexer": "ipython3",
   "version": "3.11.5"
  }
 },
 "nbformat": 4,
 "nbformat_minor": 2
}
